{
 "cells": [
  {
   "cell_type": "markdown",
   "metadata": {},
   "source": [
    "# 30 Day Map Challenge"
   ]
  },
  {
   "cell_type": "markdown",
   "metadata": {},
   "source": [
    "## Day 8 - Data: OpenStreetMap"
   ]
  },
  {
   "cell_type": "markdown",
   "metadata": {},
   "source": [
    "Plan: Use Prettymaps to plot somewhere that looks interesting from above."
   ]
  },
  {
   "cell_type": "markdown",
   "metadata": {},
   "source": [
    "Prettymaps appears to be difficult to install as a common issue so fot his map I used the web version: [Prettymap](https://chrieke-prettymapp-streamlit-prettymappapp-1k0qxh.streamlit.app/)"
   ]
  },
  {
   "cell_type": "markdown",
   "metadata": {},
   "source": [
    "Settings Used:"
   ]
  },
  {
   "cell_type": "markdown",
   "metadata": {},
   "source": [
    "Location Address: Spaghetti Junction, Birmingham, B248NP\n",
    "Radius: 1100\n",
    "\n",
    "Map Shape: Circle\n",
    "Background Shape: Circle\n",
    "Background Colour: #060A2E\n",
    "Background Size: 2\n",
    "Map Contour Colour: #29263E\n",
    "Map Contrur Width: 3\n",
    "\n",
    "Display Title: on\n",
    "Custom Title: Spaghetti Junction\n",
    "Title Font Size: 25\n",
    "Title Font Colour: #7AB7D7\n",
    "Title left/right: 19\n",
    "Title top/bottom: -45\n",
    "Title Rotation: -24\n",
    "\n",
    "Urban_0: #855988\n",
    "Urban_1: #6B4984\n",
    "Urban_2: #483475\n",
    "Water: #192058\n",
    "Grassland: #2B2F77\n",
    "Woodland: NA\n",
    "Streets: #1C1F31\n",
    "Other: #2F2352"
   ]
  },
  {
   "cell_type": "markdown",
   "metadata": {},
   "source": [
    "More Info on [Prettymaps](https://github.com/marceloprates/prettymaps)"
   ]
  },
  {
   "cell_type": "markdown",
   "metadata": {},
   "source": []
  }
 ],
 "metadata": {
  "kernelspec": {
   "display_name": "Python 3.9.5 64-bit",
   "language": "python",
   "name": "python3"
  },
  "language_info": {
   "codemirror_mode": {
    "name": "ipython",
    "version": 3
   },
   "file_extension": ".py",
   "mimetype": "text/x-python",
   "name": "python",
   "nbconvert_exporter": "python",
   "pygments_lexer": "ipython3",
   "version": "3.9.5"
  },
  "orig_nbformat": 4,
  "vscode": {
   "interpreter": {
    "hash": "2d4f09c073af55209cde53d1fe7e3b978b8245f1843b5028b0befd14c70bd8b9"
   }
  }
 },
 "nbformat": 4,
 "nbformat_minor": 2
}
