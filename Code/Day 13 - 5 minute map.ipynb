{
 "cells": [
  {
   "cell_type": "markdown",
   "metadata": {},
   "source": [
    "# 30 Day Map Challenge"
   ]
  },
  {
   "cell_type": "markdown",
   "metadata": {},
   "source": [
    "## Day 13 - 5 minute map"
   ]
  },
  {
   "cell_type": "markdown",
   "metadata": {},
   "source": [
    "Plan: Use OpenStreetMap to map an area as fast as I can"
   ]
  },
  {
   "cell_type": "code",
   "execution_count": 2,
   "metadata": {},
   "outputs": [
    {
     "name": "stdout",
     "output_type": "stream",
     "text": [
      "\u001b[31mERROR: You must give at least one requirement to install (see \"pip help install\")\u001b[0m\n",
      "\u001b[33mWARNING: You are using pip version 21.2.4; however, version 22.3.1 is available.\n",
      "You should consider upgrading via the '/data/user/0/ru.iiec.pydroid3/files/aarch64-linux-android/bin/python3.9 -m pip install --upgrade pip' command.\u001b[0m\n",
      "Note: you may need to restart the kernel to use updated packages.\n"
     ]
    }
   ],
   "source": []
  },
  {
   "cell_type": "code",
   "execution_count": null,
   "metadata": {},
   "outputs": [],
   "source": [
    "import osmnx as ox"
   ]
  },
  {
   "cell_type": "code",
   "execution_count": 1,
   "metadata": {},
   "outputs": [
    {
     "ename": "NameError",
     "evalue": "name 'ox' is not defined",
     "output_type": "error",
     "traceback": [
      "\u001b[0;31m---------------------------------------------------------------------------\u001b[0m",
      "\u001b[0;31mNameError\u001b[0m                                 Traceback (most recent call last)",
      "Input \u001b[0;32mIn [1]\u001b[0m, in \u001b[0;36m<cell line: 1>\u001b[0;34m()\u001b[0m\n\u001b[0;32m----> 1\u001b[0m Bike \u001b[38;5;241m=\u001b[39m \u001b[43mox\u001b[49m\u001b[38;5;241m.\u001b[39mgraph_from_bbox(\u001b[38;5;241m57.1880\u001b[39m,\u001b[38;5;241m57.1236\u001b[39m,\u001b[38;5;241m1.9764\u001b[39m,\u001b[38;5;241m-\u001b[39m\u001b[38;5;241m2.2593\u001b[39m,retain_all\u001b[38;5;241m=\u001b[39m\u001b[38;5;28;01mTrue\u001b[39;00m, truncate_by_edge\u001b[38;5;241m=\u001b[39m\u001b[38;5;28;01mTrue\u001b[39;00m,\n\u001b[1;32m      2\u001b[0m                         simplify\u001b[38;5;241m=\u001b[39m\u001b[38;5;28;01mFalse\u001b[39;00m, network_type \u001b[38;5;241m=\u001b[39m \u001b[38;5;124m'\u001b[39m\u001b[38;5;124mbike\u001b[39m\u001b[38;5;124m'\u001b[39m)\n",
      "\u001b[0;31mNameError\u001b[0m: name 'ox' is not defined"
     ]
    }
   ],
   "source": [
    "Bike = ox.graph_from_bbox(57.1880,57.1236,1.9764,-2.2593,retain_all=True, truncate_by_edge=True,\n",
    "                        simplify=False, network_type = 'bike')"
   ]
  },
  {
   "cell_type": "code",
   "execution_count": null,
   "metadata": {},
   "outputs": [],
   "source": [
    "u = []\n",
    "v = []\n",
    "key = []\n",
    "data = []\n",
    "for uu, vv, kkey, ddata in Bike.edges(keys=True, data=True):\n",
    "    u.append(uu)\n",
    "    v.append(vv)\n",
    "    key.append(kkey)\n",
    "    data.append(ddata)    "
   ]
  },
  {
   "cell_type": "code",
   "execution_count": null,
   "metadata": {},
   "outputs": [],
   "source": [
    "# List to store colors\n",
    "laneColors = []\n",
    "# The length is in meters\n",
    "for item in data:\n",
    "    if \"length\" in item.keys():\n",
    "        if item[\"length\"] <= 50:\n",
    "            color = \"#029DB1\"   \n",
    "        elif item[\"length\"] > 50 and item[\"length\"] <= 100:\n",
    "            color = \"#8F0EFF\"\n",
    "        elif item[\"length\"] > 100 and item[\"length\"] <= 150:\n",
    "            color = \"#62C7FF\"\n",
    "        elif item[\"length\"] > 150 and item[\"length\"] <= 200:\n",
    "            color = \"#004DCF\"\n",
    "        else:\n",
    "            color = \"#8d6fff\"\n",
    "             \n",
    "    laneColors.append(color)"
   ]
  },
  {
   "cell_type": "code",
   "execution_count": null,
   "metadata": {},
   "outputs": [],
   "source": [
    "fig, ax = ox.plot_graph(Bike, node_size=25, node_alpha=0.2, node_color=\"#3600FF\", bbox = (52.3893,52.3530,4.8613,4.9390), \n",
    "                        dpi = 300,  bgcolor = \"#000000\", figsize=(50,50), save = False, edge_color=laneColors,\n",
    "                        edge_linewidth=3, edge_alpha=1)"
   ]
  },
  {
   "cell_type": "markdown",
   "metadata": {},
   "source": []
  }
 ],
 "metadata": {
  "kernelspec": {
   "display_name": "Python 3 (ipykernel)",
   "language": "python",
   "name": "python3"
  },
  "language_info": {
   "codemirror_mode": {
    "name": "ipython",
    "version": 3
   },
   "file_extension": ".py",
   "mimetype": "text/x-python",
   "name": "python",
   "nbconvert_exporter": "python",
   "pygments_lexer": "ipython3",
   "version": "3.9.7"
  },
  "vscode": {
   "interpreter": {
    "hash": "2d4f09c073af55209cde53d1fe7e3b978b8245f1843b5028b0befd14c70bd8b9"
   }
  }
 },
 "nbformat": 4,
 "nbformat_minor": 2
}
