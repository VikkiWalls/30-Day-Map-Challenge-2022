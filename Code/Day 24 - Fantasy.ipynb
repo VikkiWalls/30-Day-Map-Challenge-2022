{
 "cells": [
  {
   "cell_type": "markdown",
   "metadata": {},
   "source": [
    "# 30 Day Map Challenge"
   ]
  },
  {
   "cell_type": "markdown",
   "metadata": {},
   "source": [
    "## Day 24 - Fantasy"
   ]
  },
  {
   "cell_type": "markdown",
   "metadata": {},
   "source": [
    "Plan: Build a fantasy map generator using turtle"
   ]
  },
  {
   "cell_type": "code",
   "execution_count": 11,
   "metadata": {},
   "outputs": [],
   "source": [
    "import math\n",
    "import os\n",
    "import random\n",
    "import turtle as t\n",
    "\n",
    "from PIL import Image"
   ]
  },
  {
   "cell_type": "markdown",
   "metadata": {},
   "source": [
    "Setting the working directory"
   ]
  },
  {
   "cell_type": "code",
   "execution_count": 12,
   "metadata": {},
   "outputs": [],
   "source": [
    "os.getcwd()\n",
    "os.chdir(\"C:\\\\Users\\\\vicks\\\\OneDrive\\\\Data Science (not uni)\\\\Portfolio\\\\30 Day Map Challenge\\\\30 Day Map Challenge Data\\\\Fantasy\")"
   ]
  },
  {
   "cell_type": "markdown",
   "metadata": {},
   "source": [
    "Setting up the turtle features"
   ]
  },
  {
   "cell_type": "code",
   "execution_count": 13,
   "metadata": {},
   "outputs": [],
   "source": [
    "t.setup(1500,1500)\n",
    "t.title(\"Day 24 - Fantasy\")\n",
    "t.speed(0)\n",
    "t.hideturtle()"
   ]
  },
  {
   "cell_type": "markdown",
   "metadata": {},
   "source": [
    "Defining a function to draw a line"
   ]
  },
  {
   "cell_type": "code",
   "execution_count": 14,
   "metadata": {},
   "outputs": [],
   "source": [
    "def draw_line(x1,y1,x2,y2):\n",
    "    t.up()\n",
    "    t.goto(x1,y1)\n",
    "    t.down()\n",
    "    t.goto(x2,y2)"
   ]
  },
  {
   "cell_type": "code",
   "execution_count": 15,
   "metadata": {},
   "outputs": [],
   "source": [
    "def dist(p1,p2): # Euclidean distance betwen p1 and p2\n",
    "    return ((p1[0]-p2[0])**2 + (p1[1]-p2[1])**2)**0.5"
   ]
  },
  {
   "cell_type": "markdown",
   "metadata": {},
   "source": [
    "Defining a recursive function to draw the fantasy island shoreline"
   ]
  },
  {
   "cell_type": "code",
   "execution_count": 16,
   "metadata": {},
   "outputs": [],
   "source": [
    "def shoreline(x1,y1,x2,y2,ratio):\n",
    "    L = dist((x1,y1),(x2,y2))\n",
    "    if L <= 1: # distance is short enough, directly draw the line\n",
    "        draw_line(x1,y1,x2,y2)\n",
    "        return\n",
    "    rs = ratio + random.uniform(-0.2,0.2) # let ratio flucuate slightly around the chosen value\n",
    "    rs = max(0.5,rs) # make sure ratio stays at least half of the length\n",
    "    midx = (x1+x2)/2 # center of ellipse\n",
    "    midy = (y1+y2)/2    \n",
    "    rx = L/2 + (2*rs-1)/2*L # width of ellipse\n",
    "    ry = ((L*rs)**2 - (L/2)**2)**0.5 # height of ellipse\n",
    "    theta = math.atan2(y2-y1,x2-x1) # the tilt angle of ellipse\n",
    "    alpha = random.uniform(math.pi*0.3,math.pi*0.7) # flucuate around math.pi/2\n",
    "    x3 = rx*math.cos(alpha)*math.cos(theta) - ry*math.sin(alpha)*math.sin(theta) + midx # parametric equation for ellipse\n",
    "    y3 = rx*math.cos(alpha)*math.sin(theta) + ry*math.sin(alpha)*math.cos(theta) + midy\n",
    "    shoreline(x1,y1,x3,y3,ratio) # do this recursively on each segment\n",
    "    shoreline(x3,y3,x2,y2,ratio)"
   ]
  },
  {
   "cell_type": "markdown",
   "metadata": {},
   "source": [
    "Setting the start location for the turtle"
   ]
  },
  {
   "cell_type": "code",
   "execution_count": 17,
   "metadata": {},
   "outputs": [],
   "source": [
    "t.tracer(0,0)"
   ]
  },
  {
   "cell_type": "markdown",
   "metadata": {},
   "source": [
    "Defining the colour settings"
   ]
  },
  {
   "cell_type": "code",
   "execution_count": 18,
   "metadata": {},
   "outputs": [],
   "source": [
    "t.bgcolor('#22122f')\n",
    "t.pencolor('#7909db')\n",
    "t.fillcolor('#cac2d1')"
   ]
  },
  {
   "cell_type": "markdown",
   "metadata": {},
   "source": [
    "Drawing the fantasy island"
   ]
  },
  {
   "cell_type": "code",
   "execution_count": 19,
   "metadata": {},
   "outputs": [],
   "source": [
    "t.begin_fill()\n",
    "shoreline(-200,0,200,0,0.55) # call recursion\n",
    "shoreline(200,0,-200,0,0.55) # call recursion\n",
    "t.end_fill()\n",
    "t.update()"
   ]
  },
  {
   "cell_type": "markdown",
   "metadata": {},
   "source": [
    "Saving the output as a post script file (to be externally converted to a png)"
   ]
  },
  {
   "cell_type": "code",
   "execution_count": 20,
   "metadata": {},
   "outputs": [],
   "source": [
    "canvas = t.getcanvas()\n",
    "psFilename = \"Fantasy.ps\"\n",
    "canvas.postscript(file=psFilename)\n",
    "psimage = Image.open(psFilename)"
   ]
  }
 ],
 "metadata": {
  "kernelspec": {
   "display_name": "Python 3.8.8 ('base')",
   "language": "python",
   "name": "python3"
  },
  "language_info": {
   "codemirror_mode": {
    "name": "ipython",
    "version": 3
   },
   "file_extension": ".py",
   "mimetype": "text/x-python",
   "name": "python",
   "nbconvert_exporter": "python",
   "pygments_lexer": "ipython3",
   "version": "3.8.8"
  },
  "orig_nbformat": 4,
  "vscode": {
   "interpreter": {
    "hash": "72e8bfbdbbb7b169bae3763836386dfea474a9314d83f4a99829b633179f3ef7"
   }
  }
 },
 "nbformat": 4,
 "nbformat_minor": 2
}
