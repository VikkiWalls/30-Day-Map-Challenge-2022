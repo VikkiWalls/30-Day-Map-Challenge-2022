{
 "cells": [
  {
   "cell_type": "markdown",
   "metadata": {},
   "source": [
    "# 30 Day Map Challenge"
   ]
  },
  {
   "cell_type": "markdown",
   "metadata": {},
   "source": [
    "## Day 24 - Fantasy"
   ]
  },
  {
   "cell_type": "markdown",
   "metadata": {},
   "source": [
    "Plan: Build a fantasy map generator using turtle"
   ]
  },
  {
   "cell_type": "code",
   "execution_count": 3,
   "metadata": {},
   "outputs": [],
   "source": [
    "import math\n",
    "import numpy as np\n",
    "import random\n",
    "import turtle"
   ]
  },
  {
   "cell_type": "code",
   "execution_count": 4,
   "metadata": {},
   "outputs": [],
   "source": [
    "np.random.seed(0)"
   ]
  },
  {
   "cell_type": "code",
   "execution_count": 5,
   "metadata": {},
   "outputs": [],
   "source": [
    "turtle.setup(1000,1000)\n",
    "turtle.title(\"Day 24 - Fantasy\")\n",
    "turtle.speed(0)\n",
    "turtle.hideturtle()"
   ]
  },
  {
   "cell_type": "code",
   "execution_count": 6,
   "metadata": {},
   "outputs": [],
   "source": [
    "def draw_line(x1,y1,x2,y2): # function to draw line\n",
    "    turtle.up()\n",
    "    turtle.goto(x1,y1)\n",
    "    turtle.down()\n",
    "    turtle.goto(x2,y2)"
   ]
  },
  {
   "cell_type": "code",
   "execution_count": 7,
   "metadata": {},
   "outputs": [],
   "source": [
    "def dist(p1,p2): # Euclidean distance betwen p1 and p2\n",
    "    return ((p1[0]-p2[0])**2 + (p1[1]-p2[1])**2)**0.5"
   ]
  },
  {
   "cell_type": "code",
   "execution_count": 8,
   "metadata": {},
   "outputs": [],
   "source": [
    "def shoreline(x1,y1,x2,y2,ratio): # recurisve function to draw the shoreline\n",
    "    L = dist((x1,y1),(x2,y2))\n",
    "    if L <= 1: # distance is short enough, directly draw the line\n",
    "        draw_line(x1,y1,x2,y2)\n",
    "        return\n",
    "    rs = ratio + random.uniform(-0.1,0.1) # let ratio flucuate slightly around the chosen value\n",
    "    rs = max(0.5,rs) # make sure ratio stays at least half of the length\n",
    "    midx = (x1+x2)/2 # center of ellipse\n",
    "    midy = (y1+y2)/2    \n",
    "    rx = L/2 + (2*rs-1)/2*L # width of ellipse\n",
    "    ry = ((L*rs)**2 - (L/2)**2)**0.5 # height of ellipse\n",
    "    theta = math.atan2(y2-y1,x2-x1) # the tilt angle of ellipse\n",
    "    alpha = random.uniform(math.pi*0.3,math.pi*0.7) # flucuate around math.pi/2\n",
    "    x3 = rx*math.cos(alpha)*math.cos(theta) - ry*math.sin(alpha)*math.sin(theta) + midx # parametric equation for ellipse\n",
    "    y3 = rx*math.cos(alpha)*math.sin(theta) + ry*math.sin(alpha)*math.cos(theta) + midy\n",
    "    shoreline(x1,y1,x3,y3,ratio) # do this recursively on each segment\n",
    "    shoreline(x3,y3,x2,y2,ratio)"
   ]
  },
  {
   "cell_type": "code",
   "execution_count": 9,
   "metadata": {},
   "outputs": [],
   "source": [
    "turtle.tracer(0,0)    \n",
    "turtle.bgcolor('royal blue')\n",
    "turtle.pencolor('green')\n",
    "turtle.fillcolor('forest green')\n",
    "turtle.begin_fill()\n",
    "shoreline(-300,0,300,0,0.55) # call recursion\n",
    "shoreline(300,0,-300,0,0.55) # call recursion\n",
    "turtle.end_fill()\n",
    "turtle.update()"
   ]
  }
 ],
 "metadata": {
  "kernelspec": {
   "display_name": "Python 3.8.8 ('base')",
   "language": "python",
   "name": "python3"
  },
  "language_info": {
   "codemirror_mode": {
    "name": "ipython",
    "version": 3
   },
   "file_extension": ".py",
   "mimetype": "text/x-python",
   "name": "python",
   "nbconvert_exporter": "python",
   "pygments_lexer": "ipython3",
   "version": "3.8.8"
  },
  "orig_nbformat": 4,
  "vscode": {
   "interpreter": {
    "hash": "72e8bfbdbbb7b169bae3763836386dfea474a9314d83f4a99829b633179f3ef7"
   }
  }
 },
 "nbformat": 4,
 "nbformat_minor": 2
}
