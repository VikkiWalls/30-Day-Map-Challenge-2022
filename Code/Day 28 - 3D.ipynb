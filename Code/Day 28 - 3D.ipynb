{
 "cells": [
  {
   "cell_type": "markdown",
   "metadata": {},
   "source": [
    "# 30 Day Map Challenge"
   ]
  },
  {
   "cell_type": "markdown",
   "metadata": {},
   "source": [
    "## Day 28 - 3D"
   ]
  },
  {
   "cell_type": "markdown",
   "metadata": {},
   "source": [
    "Plan: "
   ]
  },
  {
   "cell_type": "markdown",
   "metadata": {},
   "source": [
    "https://www.youtube.com/watch?v=Bne9VASvDoI"
   ]
  },
  {
   "cell_type": "code",
   "execution_count": 30,
   "metadata": {},
   "outputs": [],
   "source": [
    "import pydeck as pdk\n",
    "import pandas as pd\n",
    "from vega_datasets import data as vds\n",
    "import ipywidgets\n",
    "import plotly.express as px\n",
    "\n",
    "# use palettable for colormap colours\n",
    "from palettable.cartocolors.sequential import BrwnYl_3\n",
    "import os\n",
    "import json"
   ]
  },
  {
   "cell_type": "code",
   "execution_count": 31,
   "metadata": {},
   "outputs": [],
   "source": [
    "os.getcwd()\n",
    "os.chdir(\"c:\\\\Users\\\\vicks\\\\OneDrive\\\\Data Science (not uni)\\\\Portfolio\\\\30 Day Map Challenge\\\\30 Day Map Challenge Data\\\\3d\")"
   ]
  },
  {
   "cell_type": "code",
   "execution_count": 32,
   "metadata": {},
   "outputs": [
    {
     "data": {
      "text/html": [
       "<div>\n",
       "<style scoped>\n",
       "    .dataframe tbody tr th:only-of-type {\n",
       "        vertical-align: middle;\n",
       "    }\n",
       "\n",
       "    .dataframe tbody tr th {\n",
       "        vertical-align: top;\n",
       "    }\n",
       "\n",
       "    .dataframe thead th {\n",
       "        text-align: right;\n",
       "    }\n",
       "</style>\n",
       "<table border=\"1\" class=\"dataframe\">\n",
       "  <thead>\n",
       "    <tr style=\"text-align: right;\">\n",
       "      <th></th>\n",
       "      <th>from_lat</th>\n",
       "      <th>from_lon</th>\n",
       "      <th>to_lat</th>\n",
       "      <th>to_lon</th>\n",
       "    </tr>\n",
       "  </thead>\n",
       "  <tbody>\n",
       "    <tr>\n",
       "      <th>0</th>\n",
       "      <td>32.870715</td>\n",
       "      <td>-97.376346</td>\n",
       "      <td>32.769007</td>\n",
       "      <td>-96.812533</td>\n",
       "    </tr>\n",
       "    <tr>\n",
       "      <th>1</th>\n",
       "      <td>32.799592</td>\n",
       "      <td>-97.351823</td>\n",
       "      <td>32.822974</td>\n",
       "      <td>-96.801833</td>\n",
       "    </tr>\n",
       "    <tr>\n",
       "      <th>2</th>\n",
       "      <td>32.768221</td>\n",
       "      <td>-97.106567</td>\n",
       "      <td>32.834189</td>\n",
       "      <td>-97.358136</td>\n",
       "    </tr>\n",
       "    <tr>\n",
       "      <th>3</th>\n",
       "      <td>32.695613</td>\n",
       "      <td>-96.707196</td>\n",
       "      <td>32.824957</td>\n",
       "      <td>-96.803326</td>\n",
       "    </tr>\n",
       "    <tr>\n",
       "      <th>4</th>\n",
       "      <td>32.811108</td>\n",
       "      <td>-97.358136</td>\n",
       "      <td>32.801874</td>\n",
       "      <td>-96.768994</td>\n",
       "    </tr>\n",
       "  </tbody>\n",
       "</table>\n",
       "</div>"
      ],
      "text/plain": [
       "    from_lat   from_lon     to_lat     to_lon\n",
       "0  32.870715 -97.376346  32.769007 -96.812533\n",
       "1  32.799592 -97.351823  32.822974 -96.801833\n",
       "2  32.768221 -97.106567  32.834189 -97.358136\n",
       "3  32.695613 -96.707196  32.824957 -96.803326\n",
       "4  32.811108 -97.358136  32.801874 -96.768994"
      ]
     },
     "execution_count": 32,
     "metadata": {},
     "output_type": "execute_result"
    }
   ],
   "source": [
    "data = 'https://raw.githubusercontent.com/groundhogday321/dataframe-datasets/master/fake_commute_data.csv'\n",
    "commute_pattern = pd.read_csv(data)\n",
    "commute_pattern.head()"
   ]
  },
  {
   "cell_type": "code",
   "execution_count": 33,
   "metadata": {},
   "outputs": [],
   "source": [
    "view = pdk.ViewState(latitude=32.800382, longitude=-97.040728, pitch=50, zoom=9)"
   ]
  },
  {
   "cell_type": "code",
   "execution_count": 34,
   "metadata": {},
   "outputs": [],
   "source": [
    "mapboxkey = px.set_mapbox_access_token(open(\"mapboxtokenhex.txt\").read())"
   ]
  },
  {
   "cell_type": "code",
   "execution_count": 38,
   "metadata": {},
   "outputs": [
    {
     "data": {
      "application/vnd.jupyter.widget-view+json": {
       "model_id": "4b9c0bc6f1174ea8962327297254fab1",
       "version_major": 2,
       "version_minor": 0
      },
      "text/plain": [
       "DeckGLWidget(carto_key=None, custom_libraries=[], google_maps_key=None, json_input='{\"initialViewState\": {\"lat…"
      ]
     },
     "metadata": {},
     "output_type": "display_data"
    }
   ],
   "source": [
    "arc_layer = pdk.Layer('ArcLayer', data=commute_pattern, get_source_position=['from_lon', 'from_lat'], get_target_position=['to_lon', 'to_lat'],\n",
    "                      get_width=5, get_tilt=15, get_source_color=[255, 165, 0, 80], get_target_color=[128, 0, 128, 80])\n",
    "\n",
    "arc_layer_map = pdk.Deck(map_style='mapbox://styles/mapbox/carto-darkmatter', layers = arc_layer, initial_view_state = view)\n",
    "\n",
    "arc_layer_map.show()"
   ]
  },
  {
   "cell_type": "markdown",
   "metadata": {},
   "source": []
  },
  {
   "cell_type": "code",
   "execution_count": 39,
   "metadata": {},
   "outputs": [
    {
     "data": {
      "text/html": [
       "\n",
       "        <iframe\n",
       "            width=\"100%\"\n",
       "            height=500\n",
       "            frameborder=\"0\"\n",
       "            srcdoc=\"&lt;!DOCTYPE html&gt;\n",
       "&lt;html&gt;\n",
       "  &lt;head&gt;\n",
       "    &lt;meta http-equiv=&quot;content-type&quot; content=&quot;text/html; charset=UTF-8&quot; /&gt;\n",
       "    &lt;title&gt;pydeck&lt;/title&gt;\n",
       "        &lt;script src=&quot;https://api.tiles.mapbox.com/mapbox-gl-js/v1.13.0/mapbox-gl.js&quot;&gt;&lt;/script&gt;\n",
       "        &lt;link rel=&quot;stylesheet&quot; href=&quot;https://maxcdn.bootstrapcdn.com/bootstrap/3.2.0/css/bootstrap-theme.min.css&quot; /&gt;\n",
       "    &lt;link rel=&quot;stylesheet&quot; href=&quot;https://maxcdn.bootstrapcdn.com/font-awesome/4.6.3/css/font-awesome.min.css&quot; /&gt;\n",
       "    &lt;script src=&#x27;https://cdn.jsdelivr.net/npm/@deck.gl/jupyter-widget@~8.5.*/dist/index.js&#x27;&gt;&lt;/script&gt;\n",
       "    &lt;style&gt;\n",
       "    body {\n",
       "  margin: 0;\n",
       "  padding: 0;\n",
       "  overflow: hidden;\n",
       "}\n",
       "\n",
       "#deck-map-container {\n",
       "  width: 100%;\n",
       "  height: 100%;\n",
       "  background-color: black;\n",
       "}\n",
       "\n",
       "#map {\n",
       "  pointer-events: none;\n",
       "  height: 100%;\n",
       "  width: 100%;\n",
       "  position: absolute;\n",
       "  z-index: 1;\n",
       "}\n",
       "\n",
       "#deckgl-overlay {\n",
       "  z-index: 2;\n",
       "  background: none;\n",
       "}\n",
       "\n",
       "#deck-map-wrapper {\n",
       "  width: 100%;\n",
       "  height: 100%;\n",
       "}\n",
       "\n",
       "#deck-container {\n",
       "  width: 100vw;\n",
       "  height: 100vh;\n",
       "}\n",
       "    &lt;/style&gt;\n",
       "  &lt;/head&gt;\n",
       "  &lt;body&gt;\n",
       "    &lt;div id=&quot;deck-container&quot;&gt;\n",
       "    &lt;/div&gt;\n",
       "  &lt;/body&gt;\n",
       "  &lt;script&gt;\n",
       "    const jsonInput = {&quot;initialViewState&quot;: {&quot;latitude&quot;: 32.800382, &quot;longitude&quot;: -97.040728, &quot;pitch&quot;: 50, &quot;zoom&quot;: 9}, &quot;layers&quot;: [{&quot;@@type&quot;: &quot;ArcLayer&quot;, &quot;data&quot;: [{&quot;from_lat&quot;: 32.870715, &quot;from_lon&quot;: -97.376346, &quot;to_lat&quot;: 32.769007, &quot;to_lon&quot;: -96.812533}, {&quot;from_lat&quot;: 32.799592, &quot;from_lon&quot;: -97.351823, &quot;to_lat&quot;: 32.822974, &quot;to_lon&quot;: -96.801833}, {&quot;from_lat&quot;: 32.768221, &quot;from_lon&quot;: -97.106567, &quot;to_lat&quot;: 32.834189, &quot;to_lon&quot;: -97.358136}, {&quot;from_lat&quot;: 32.695613, &quot;from_lon&quot;: -96.707196, &quot;to_lat&quot;: 32.824957, &quot;to_lon&quot;: -96.803326}, {&quot;from_lat&quot;: 32.811108, &quot;from_lon&quot;: -97.358136, &quot;to_lat&quot;: 32.801874, &quot;to_lon&quot;: -96.768994}, {&quot;from_lat&quot;: 32.684055, &quot;from_lon&quot;: -96.91319, &quot;to_lat&quot;: 32.836604, &quot;to_lon&quot;: -96.67634}, {&quot;from_lat&quot;: 32.823565, &quot;from_lon&quot;: -97.291029, &quot;to_lat&quot;: 32.751951, &quot;to_lon&quot;: -96.699468}, {&quot;from_lat&quot;: 32.820913, &quot;from_lon&quot;: -97.291029, &quot;to_lat&quot;: 32.732048, &quot;to_lon&quot;: -96.87457}, {&quot;from_lat&quot;: 32.978529, &quot;from_lon&quot;: -96.743638, &quot;to_lat&quot;: 32.805004, &quot;to_lon&quot;: -96.806737}, {&quot;from_lat&quot;: 32.85935, &quot;from_lon&quot;: -96.63479, &quot;to_lat&quot;: 32.736029, &quot;to_lon&quot;: -96.803582}, {&quot;from_lat&quot;: 33.006314, &quot;from_lon&quot;: -96.89981, &quot;to_lat&quot;: 32.781134, &quot;to_lon&quot;: -96.884035}, {&quot;from_lat&quot;: 32.762564, &quot;from_lon&quot;: -97.462976, &quot;to_lat&quot;: 32.775829, &quot;to_lon&quot;: -97.248436}, {&quot;from_lat&quot;: 32.884247, &quot;from_lon&quot;: -96.788439, &quot;to_lat&quot;: 32.824639, &quot;to_lon&quot;: -96.801641}, {&quot;from_lat&quot;: 32.830185, &quot;from_lon&quot;: -96.661374, &quot;to_lat&quot;: 32.738621, &quot;to_lon&quot;: -96.799991}, {&quot;from_lat&quot;: 32.77609, &quot;from_lon&quot;: -97.258745, &quot;to_lat&quot;: 32.784415, &quot;to_lon&quot;: -96.70923}, {&quot;from_lat&quot;: 32.760827, &quot;from_lon&quot;: -97.453468, &quot;to_lat&quot;: 32.729817, &quot;to_lon&quot;: -96.882086}, {&quot;from_lat&quot;: 32.782505, &quot;from_lon&quot;: -97.186554, &quot;to_lat&quot;: 32.707412, &quot;to_lon&quot;: -96.799165}, {&quot;from_lat&quot;: 32.787594, &quot;from_lon&quot;: -96.950489, &quot;to_lat&quot;: 32.777416, &quot;to_lon&quot;: -96.666}, {&quot;from_lat&quot;: 32.755728, &quot;from_lon&quot;: -96.588162, &quot;to_lat&quot;: 32.759626, &quot;to_lon&quot;: -96.733013}, {&quot;from_lat&quot;: 32.820998, &quot;from_lon&quot;: -96.701725, &quot;to_lat&quot;: 32.743058, &quot;to_lon&quot;: -96.780524}, {&quot;from_lat&quot;: 32.615496, &quot;from_lon&quot;: -96.852587, &quot;to_lat&quot;: 32.800382, &quot;to_lon&quot;: -96.801775}, {&quot;from_lat&quot;: 32.564586, &quot;from_lon&quot;: -96.937731, &quot;to_lat&quot;: 32.783065, &quot;to_lon&quot;: -96.84572}, {&quot;from_lat&quot;: 32.969908, &quot;from_lon&quot;: -96.75783, &quot;to_lat&quot;: 32.758816, &quot;to_lon&quot;: -96.790789}, {&quot;from_lat&quot;: 32.716076, &quot;from_lon&quot;: -96.634233, &quot;to_lat&quot;: 32.809039, &quot;to_lon&quot;: -96.804522}, {&quot;from_lat&quot;: 32.731155, &quot;from_lon&quot;: -96.843288, &quot;to_lat&quot;: 32.774037, &quot;to_lon&quot;: -97.251194}, {&quot;from_lat&quot;: 32.89693, &quot;from_lon&quot;: -96.864352, &quot;to_lat&quot;: 32.776398, &quot;to_lon&quot;: -96.73953}, {&quot;from_lat&quot;: 32.660409, &quot;from_lon&quot;: -96.637065, &quot;to_lat&quot;: 32.828075, &quot;to_lon&quot;: -96.793558}, {&quot;from_lat&quot;: 32.696476, &quot;from_lon&quot;: -96.70227, &quot;to_lat&quot;: 32.813984, &quot;to_lon&quot;: -96.773064}, {&quot;from_lat&quot;: 32.613344, &quot;from_lon&quot;: -96.841996, &quot;to_lat&quot;: 32.824944, &quot;to_lon&quot;: -96.80101}, {&quot;from_lat&quot;: 32.676876, &quot;from_lon&quot;: -96.719037, &quot;to_lat&quot;: 32.846859, &quot;to_lon&quot;: -96.781448}, {&quot;from_lat&quot;: 32.61099, &quot;from_lon&quot;: -96.789831, &quot;to_lat&quot;: 32.797542, &quot;to_lon&quot;: -96.775859}, {&quot;from_lat&quot;: 32.639233, &quot;from_lon&quot;: -96.764681, &quot;to_lat&quot;: 32.719207, &quot;to_lon&quot;: -96.633339}, {&quot;from_lat&quot;: 32.959478, &quot;from_lon&quot;: -96.749777, &quot;to_lat&quot;: 32.77444, &quot;to_lon&quot;: -96.772599}, {&quot;from_lat&quot;: 32.729786, &quot;from_lon&quot;: -96.884845, &quot;to_lat&quot;: 32.806938, &quot;to_lon&quot;: -96.803338}, {&quot;from_lat&quot;: 32.888717, &quot;from_lon&quot;: -96.848051, &quot;to_lat&quot;: 32.781489, &quot;to_lon&quot;: -96.794955}, {&quot;from_lat&quot;: 32.705491, &quot;from_lon&quot;: -96.76701, &quot;to_lat&quot;: 32.788146, &quot;to_lon&quot;: -96.818708}, {&quot;from_lat&quot;: 32.723517, &quot;from_lon&quot;: -96.709722, &quot;to_lat&quot;: 32.785796, &quot;to_lon&quot;: -96.780051}, {&quot;from_lat&quot;: 32.787363, &quot;from_lon&quot;: -96.905804, &quot;to_lat&quot;: 32.78286, &quot;to_lon&quot;: -96.777955}, {&quot;from_lat&quot;: 32.916741, &quot;from_lon&quot;: -96.678382, &quot;to_lat&quot;: 32.747907, &quot;to_lon&quot;: -96.779795}, {&quot;from_lat&quot;: 32.777397, &quot;from_lon&quot;: -96.95324, &quot;to_lat&quot;: 32.799706, &quot;to_lon&quot;: -96.805385}, {&quot;from_lat&quot;: 32.777397, &quot;from_lon&quot;: -96.955136, &quot;to_lat&quot;: 32.79652, &quot;to_lon&quot;: -96.776952}, {&quot;from_lat&quot;: 32.785763, &quot;from_lon&quot;: -96.673643, &quot;to_lat&quot;: 32.808071, &quot;to_lon&quot;: -96.808703}, {&quot;from_lat&quot;: 32.704452, &quot;from_lon&quot;: -96.767, &quot;to_lat&quot;: 32.794926, &quot;to_lon&quot;: -96.778847}, {&quot;from_lat&quot;: 32.740733, &quot;from_lon&quot;: -96.689755, &quot;to_lat&quot;: 32.79891, &quot;to_lon&quot;: -96.786193}, {&quot;from_lat&quot;: 32.722979, &quot;from_lon&quot;: -96.645647, &quot;to_lat&quot;: 32.809504, &quot;to_lon&quot;: -96.802417}, {&quot;from_lat&quot;: 32.727964, &quot;from_lon&quot;: -96.884843, &quot;to_lat&quot;: 32.771314, &quot;to_lon&quot;: -96.795679}, {&quot;from_lat&quot;: 32.753543, &quot;from_lon&quot;: -96.589953, &quot;to_lat&quot;: 32.786832, &quot;to_lon&quot;: -96.780705}, {&quot;from_lat&quot;: 32.630113, &quot;from_lon&quot;: -96.715021, &quot;to_lat&quot;: 32.801959, &quot;to_lon&quot;: -96.801399}, {&quot;from_lat&quot;: 32.611925, &quot;from_lon&quot;: -96.779805, &quot;to_lat&quot;: 32.801203, &quot;to_lon&quot;: -96.774406}, {&quot;from_lat&quot;: 32.954601, &quot;from_lon&quot;: -96.773506, &quot;to_lat&quot;: 32.806497, &quot;to_lon&quot;: -96.805898}, {&quot;from_lat&quot;: 32.806497, &quot;from_lon&quot;: -96.605249, &quot;to_lat&quot;: 32.809522, &quot;to_lon&quot;: -96.806798}, {&quot;from_lat&quot;: 32.671641, &quot;from_lon&quot;: -96.896989, &quot;to_lat&quot;: 32.798905, &quot;to_lon&quot;: -96.778586}, {&quot;from_lat&quot;: 32.905279, &quot;from_lon&quot;: -96.851765, &quot;to_lat&quot;: 32.767106, &quot;to_lon&quot;: -96.788453}, {&quot;from_lat&quot;: 32.709701, &quot;from_lon&quot;: -96.639627, &quot;to_lat&quot;: 32.801669, &quot;to_lon&quot;: -96.806542}, {&quot;from_lat&quot;: 32.667488, &quot;from_lon&quot;: -96.846832, &quot;to_lat&quot;: 32.811345, &quot;to_lon&quot;: -96.809831}, {&quot;from_lat&quot;: 32.715927, &quot;from_lon&quot;: -96.841076, &quot;to_lat&quot;: 32.808581, &quot;to_lon&quot;: -96.77283}, {&quot;from_lat&quot;: 32.678562, &quot;from_lon&quot;: -96.836965, &quot;to_lat&quot;: 32.816873, &quot;to_lon&quot;: -96.82792}, {&quot;from_lat&quot;: 32.697247, &quot;from_lon&quot;: -96.831209, &quot;to_lat&quot;: 32.8148, &quot;to_lon&quot;: -96.759674}, {&quot;from_lat&quot;: 32.659217, &quot;from_lon&quot;: -96.836307, &quot;to_lat&quot;: 32.815967, &quot;to_lon&quot;: -96.752005}, {&quot;from_lat&quot;: 32.67341, &quot;from_lon&quot;: -96.719172, &quot;to_lat&quot;: 32.780676, &quot;to_lon&quot;: -96.798531}, {&quot;from_lat&quot;: 32.698401, &quot;from_lon&quot;: -96.866755, &quot;to_lat&quot;: 32.779031, &quot;to_lon&quot;: -96.808766}, {&quot;from_lat&quot;: 32.682792, &quot;from_lon&quot;: -96.869752, &quot;to_lat&quot;: 32.796285, &quot;to_lon&quot;: -96.808097}, {&quot;from_lat&quot;: 32.947883, &quot;from_lon&quot;: -96.780396, &quot;to_lat&quot;: 32.783807, &quot;to_lon&quot;: -96.797795}, {&quot;from_lat&quot;: 32.914957, &quot;from_lon&quot;: -96.831447, &quot;to_lat&quot;: 32.784523, &quot;to_lon&quot;: -96.798643}, {&quot;from_lat&quot;: 32.782074, &quot;from_lon&quot;: -96.894781, &quot;to_lat&quot;: 32.78033, &quot;to_lon&quot;: -96.806882}, {&quot;from_lat&quot;: 32.627189, &quot;from_lon&quot;: -96.788657, &quot;to_lat&quot;: 32.784882, &quot;to_lon&quot;: -96.798456}, {&quot;from_lat&quot;: 32.682894, &quot;from_lon&quot;: -96.899167, &quot;to_lat&quot;: 32.781442, &quot;to_lon&quot;: -96.797516}, {&quot;from_lat&quot;: 32.635494, &quot;from_lon&quot;: -96.768349, &quot;to_lat&quot;: 32.781442, &quot;to_lon&quot;: -96.797516}, {&quot;from_lat&quot;: 32.969092, &quot;from_lon&quot;: -96.791957, &quot;to_lat&quot;: 32.781442, &quot;to_lon&quot;: -96.797516}, {&quot;from_lat&quot;: 32.874902, &quot;from_lon&quot;: -96.876665, &quot;to_lat&quot;: 32.781442, &quot;to_lon&quot;: -96.797516}, {&quot;from_lat&quot;: 32.62509, &quot;from_lon&quot;: -96.849163, &quot;to_lat&quot;: 32.781442, &quot;to_lon&quot;: -96.797516}, {&quot;from_lat&quot;: 32.575971, &quot;from_lon&quot;: -96.733652, &quot;to_lat&quot;: 32.781442, &quot;to_lon&quot;: -96.797516}, {&quot;from_lat&quot;: 32.578752, &quot;from_lon&quot;: -96.793058, &quot;to_lat&quot;: 32.781442, &quot;to_lon&quot;: -96.797516}, {&quot;from_lat&quot;: 32.565773, &quot;from_lon&quot;: -96.943771, &quot;to_lat&quot;: 32.781442, &quot;to_lon&quot;: -96.797516}, {&quot;from_lat&quot;: 32.626943, &quot;from_lon&quot;: -96.793058, &quot;to_lat&quot;: 32.781442, &quot;to_lon&quot;: -96.797516}, {&quot;from_lat&quot;: 32.683442, &quot;from_lon&quot;: -96.833761, &quot;to_lat&quot;: 32.781442, &quot;to_lon&quot;: -96.797516}, {&quot;from_lat&quot;: 32.552792, &quot;from_lon&quot;: -96.801858, &quot;to_lat&quot;: 32.781442, &quot;to_lon&quot;: -96.797516}, {&quot;from_lat&quot;: 32.567627, &quot;from_lon&quot;: -96.950372, &quot;to_lat&quot;: 32.780432, &quot;to_lon&quot;: -96.801292}, {&quot;from_lat&quot;: 32.64084, &quot;from_lon&quot;: -96.934971, &quot;to_lat&quot;: 32.780432, &quot;to_lon&quot;: -96.801292}, {&quot;from_lat&quot;: 32.551865, &quot;from_lon&quot;: -96.906368, &quot;to_lat&quot;: 32.780432, &quot;to_lon&quot;: -96.801292}, {&quot;from_lat&quot;: 32.578752, &quot;from_lon&quot;: -96.800758, &quot;to_lat&quot;: 32.780432, &quot;to_lon&quot;: -96.801292}, {&quot;from_lat&quot;: 32.579679, &quot;from_lon&quot;: -96.725951, &quot;to_lat&quot;: 32.780432, &quot;to_lon&quot;: -96.801292}, {&quot;from_lat&quot;: 32.611191, &quot;from_lon&quot;: -96.799658, &quot;to_lat&quot;: 32.780432, &quot;to_lon&quot;: -96.801292}, {&quot;from_lat&quot;: 32.611191, &quot;from_lon&quot;: -96.852463, &quot;to_lat&quot;: 32.780432, &quot;to_lon&quot;: -96.801292}, {&quot;from_lat&quot;: 32.524042, &quot;from_lon&quot;: -96.860164, &quot;to_lat&quot;: 32.780432, &quot;to_lon&quot;: -96.801292}, {&quot;from_lat&quot;: 32.523115, &quot;from_lon&quot;: -97.010878, &quot;to_lat&quot;: 32.780432, &quot;to_lon&quot;: -96.801292}, {&quot;from_lat&quot;: 32.546301, &quot;from_lon&quot;: -96.670946, &quot;to_lat&quot;: 32.780432, &quot;to_lon&quot;: -96.801292}, {&quot;from_lat&quot;: 32.582345, &quot;from_lon&quot;: -96.987865, &quot;to_lat&quot;: 32.780432, &quot;to_lon&quot;: -96.801292}, {&quot;from_lat&quot;: 32.981215, &quot;from_lon&quot;: -96.736522, &quot;to_lat&quot;: 32.780432, &quot;to_lon&quot;: -96.801292}, {&quot;from_lat&quot;: 33.001173, &quot;from_lon&quot;: -96.843603, &quot;to_lat&quot;: 32.780432, &quot;to_lon&quot;: -96.801292}, {&quot;from_lat&quot;: 32.989947, &quot;from_lon&quot;: -96.33348, &quot;to_lat&quot;: 32.780432, &quot;to_lon&quot;: -96.801292}, {&quot;from_lat&quot;: 32.751364, &quot;from_lon&quot;: -96.285888, &quot;to_lat&quot;: 32.782053, &quot;to_lon&quot;: -96.804628}, {&quot;from_lat&quot;: 32.796381, &quot;from_lon&quot;: -97.127666, &quot;to_lat&quot;: 32.782053, &quot;to_lon&quot;: -96.804628}, {&quot;from_lat&quot;: 32.591117, &quot;from_lon&quot;: -96.763292, &quot;to_lat&quot;: 32.782053, &quot;to_lon&quot;: -96.804628}, {&quot;from_lat&quot;: 32.473252, &quot;from_lon&quot;: -96.932837, &quot;to_lat&quot;: 32.782053, &quot;to_lon&quot;: -96.804628}, {&quot;from_lat&quot;: 32.537219, &quot;from_lon&quot;: -96.738009, &quot;to_lat&quot;: 32.782053, &quot;to_lon&quot;: -96.804628}, {&quot;from_lat&quot;: 32.545369, &quot;from_lon&quot;: -96.674801, &quot;to_lat&quot;: 32.782053, &quot;to_lon&quot;: -96.804628}, {&quot;from_lat&quot;: 32.60206, &quot;from_lon&quot;: -96.955705, &quot;to_lat&quot;: 32.782053, &quot;to_lon&quot;: -96.804628}, {&quot;from_lat&quot;: 32.570379, &quot;from_lon&quot;: -96.511563, &quot;to_lat&quot;: 32.782053, &quot;to_lon&quot;: -96.804628}, {&quot;from_lat&quot;: 32.612947, &quot;from_lon&quot;: -96.867582, &quot;to_lat&quot;: 32.782053, &quot;to_lon&quot;: -96.804628}, {&quot;from_lat&quot;: 32.58028, &quot;from_lon&quot;: -96.800608, &quot;to_lat&quot;: 32.782053, &quot;to_lon&quot;: -96.804628}, {&quot;from_lat&quot;: 32.567408, &quot;from_lon&quot;: -96.943956, &quot;to_lat&quot;: 32.782053, &quot;to_lon&quot;: -96.804628}, {&quot;from_lat&quot;: 32.686484, &quot;from_lon&quot;: -96.870254, &quot;to_lat&quot;: 32.781289, &quot;to_lon&quot;: -96.799838}, {&quot;from_lat&quot;: 32.681948, &quot;from_lon&quot;: -96.93646, &quot;to_lat&quot;: 32.781289, &quot;to_lon&quot;: -96.799838}, {&quot;from_lat&quot;: 32.582229, &quot;from_lon&quot;: -96.866678, &quot;to_lat&quot;: 32.781289, &quot;to_lon&quot;: -96.799838}, {&quot;from_lat&quot;: 32.68639, &quot;from_lon&quot;: -96.955375, &quot;to_lat&quot;: 32.781289, &quot;to_lon&quot;: -96.799838}, {&quot;from_lat&quot;: 32.638436, &quot;from_lon&quot;: -96.848776, &quot;to_lat&quot;: 32.781289, &quot;to_lon&quot;: -96.799838}, {&quot;from_lat&quot;: 32.571257, &quot;from_lon&quot;: -96.979788, &quot;to_lat&quot;: 32.781289, &quot;to_lon&quot;: -96.799838}, {&quot;from_lat&quot;: 32.669952, &quot;from_lon&quot;: -96.899227, &quot;to_lat&quot;: 32.781289, &quot;to_lon&quot;: -96.799838}, {&quot;from_lat&quot;: 32.582229, &quot;from_lon&quot;: -96.901669, &quot;to_lat&quot;: 32.781289, &quot;to_lon&quot;: -96.799838}, {&quot;from_lat&quot;: 32.660361, &quot;from_lon&quot;: -96.917943, &quot;to_lat&quot;: 32.781289, &quot;to_lon&quot;: -96.799838}, {&quot;from_lat&quot;: 32.611708, &quot;from_lon&quot;: -96.831687, &quot;to_lat&quot;: 32.781289, &quot;to_lon&quot;: -96.799838}, {&quot;from_lat&quot;: 32.627471, &quot;from_lon&quot;: -96.829246, &quot;to_lat&quot;: 32.781289, &quot;to_lon&quot;: -96.799838}, {&quot;from_lat&quot;: 32.613764, &quot;from_lon&quot;: -96.900041, &quot;to_lat&quot;: 32.781289, &quot;to_lon&quot;: -96.799838}, {&quot;from_lat&quot;: 32.661731, &quot;from_lon&quot;: -96.948866, &quot;to_lat&quot;: 32.781289, &quot;to_lon&quot;: -96.799838}, {&quot;from_lat&quot;: 32.63638, &quot;from_lon&quot;: -96.830873, &quot;to_lat&quot;: 32.781289, &quot;to_lon&quot;: -96.799838}, {&quot;from_lat&quot;: 32.68365, &quot;from_lon&quot;: -96.92364, &quot;to_lat&quot;: 32.781289, &quot;to_lon&quot;: -96.799838}, {&quot;from_lat&quot;: 32.554797, &quot;from_lon&quot;: -96.913061, &quot;to_lat&quot;: 32.781289, &quot;to_lon&quot;: -96.799838}, {&quot;from_lat&quot;: 32.627471, &quot;from_lon&quot;: -96.83006, &quot;to_lat&quot;: 32.781289, &quot;to_lon&quot;: -96.799838}, {&quot;from_lat&quot;: 32.594547, &quot;from_lon&quot;: -96.90045, &quot;to_lat&quot;: 32.781289, &quot;to_lon&quot;: -96.799838}, {&quot;from_lat&quot;: 32.649142, &quot;from_lon&quot;: -96.876416, &quot;to_lat&quot;: 32.781289, &quot;to_lon&quot;: -96.799838}, {&quot;from_lat&quot;: 32.648529, &quot;from_lon&quot;: -96.95653, &quot;to_lat&quot;: 32.781289, &quot;to_lon&quot;: -96.799838}, {&quot;from_lat&quot;: 32.584729, &quot;from_lon&quot;: -96.90045, &quot;to_lat&quot;: 32.781289, &quot;to_lon&quot;: -96.799838}, {&quot;from_lat&quot;: 32.64017, &quot;from_lon&quot;: -96.912671, &quot;to_lat&quot;: 32.781289, &quot;to_lon&quot;: -96.799838}, {&quot;from_lat&quot;: 32.648367, &quot;from_lon&quot;: -96.94412, &quot;to_lat&quot;: 32.781289, &quot;to_lon&quot;: -96.799838}, {&quot;from_lat&quot;: 32.637648, &quot;from_lon&quot;: -96.876729, &quot;to_lat&quot;: 32.781289, &quot;to_lon&quot;: -96.799838}, {&quot;from_lat&quot;: 32.666649, &quot;from_lon&quot;: -96.932889, &quot;to_lat&quot;: 32.781289, &quot;to_lon&quot;: -96.799838}, {&quot;from_lat&quot;: 32.63103, &quot;from_lon&quot;: -96.941433, &quot;to_lat&quot;: 32.781289, &quot;to_lon&quot;: -96.799838}, {&quot;from_lat&quot;: 32.671744, &quot;from_lon&quot;: -96.906735, &quot;to_lat&quot;: 32.781289, &quot;to_lon&quot;: -96.799838}, {&quot;from_lat&quot;: 32.608428, &quot;from_lon&quot;: -96.912305, &quot;to_lat&quot;: 32.781289, &quot;to_lon&quot;: -96.799838}, {&quot;from_lat&quot;: 32.631102, &quot;from_lon&quot;: -96.787915, &quot;to_lat&quot;: 32.781289, &quot;to_lon&quot;: -96.799838}, {&quot;from_lat&quot;: 32.631884, &quot;from_lon&quot;: -96.892811, &quot;to_lat&quot;: 32.781289, &quot;to_lon&quot;: -96.799838}, {&quot;from_lat&quot;: 32.633447, &quot;from_lon&quot;: -96.919731, &quot;to_lat&quot;: 32.781289, &quot;to_lon&quot;: -96.799838}, {&quot;from_lat&quot;: 32.595916, &quot;from_lon&quot;: -96.901165, &quot;to_lat&quot;: 32.781289, &quot;to_lon&quot;: -96.799838}, {&quot;from_lat&quot;: 32.960592, &quot;from_lon&quot;: -96.901028, &quot;to_lat&quot;: 32.781289, &quot;to_lon&quot;: -96.799838}, {&quot;from_lat&quot;: 32.97125, &quot;from_lon&quot;: -96.743975, &quot;to_lat&quot;: 32.781289, &quot;to_lon&quot;: -96.799838}, {&quot;from_lat&quot;: 32.956788, &quot;from_lon&quot;: -96.778859, &quot;to_lat&quot;: 32.781289, &quot;to_lon&quot;: -96.799838}, {&quot;from_lat&quot;: 32.905194, &quot;from_lon&quot;: -96.862142, &quot;to_lat&quot;: 32.781289, &quot;to_lon&quot;: -96.799838}, {&quot;from_lat&quot;: 32.889377, &quot;from_lon&quot;: -96.776876, &quot;to_lat&quot;: 32.781289, &quot;to_lon&quot;: -96.799838}, {&quot;from_lat&quot;: 32.926834, &quot;from_lon&quot;: -96.711439, &quot;to_lat&quot;: 32.781289, &quot;to_lon&quot;: -96.799838}, {&quot;from_lat&quot;: 32.944308, &quot;from_lon&quot;: -96.831406, &quot;to_lat&quot;: 32.781289, &quot;to_lon&quot;: -96.799838}, {&quot;from_lat&quot;: 32.903529, &quot;from_lon&quot;: -96.871065, &quot;to_lat&quot;: 32.781289, &quot;to_lon&quot;: -96.799838}, {&quot;from_lat&quot;: 32.874389, &quot;from_lon&quot;: -96.818517, &quot;to_lat&quot;: 32.781289, &quot;to_lon&quot;: -96.799838}, {&quot;from_lat&quot;: 32.935571, &quot;from_lon&quot;: -96.771422, &quot;to_lat&quot;: 32.781289, &quot;to_lon&quot;: -96.799838}, {&quot;from_lat&quot;: 32.969635, &quot;from_lon&quot;: -96.833592, &quot;to_lat&quot;: 32.781289, &quot;to_lon&quot;: -96.799838}, {&quot;from_lat&quot;: 32.960729, &quot;from_lon&quot;: -96.906266, &quot;to_lat&quot;: 32.781289, &quot;to_lon&quot;: -96.799838}, {&quot;from_lat&quot;: 33.004566, &quot;from_lon&quot;: -96.90055, &quot;to_lat&quot;: 32.781289, &quot;to_lon&quot;: -96.799838}, {&quot;from_lat&quot;: 32.97032, &quot;from_lon&quot;: -96.765001, &quot;to_lat&quot;: 32.781289, &quot;to_lon&quot;: -96.799838}, {&quot;from_lat&quot;: 32.886569, &quot;from_lon&quot;: -96.828878, &quot;to_lat&quot;: 32.781289, &quot;to_lon&quot;: -96.799838}, {&quot;from_lat&quot;: 32.889024, &quot;from_lon&quot;: -96.779911, &quot;to_lat&quot;: 32.781289, &quot;to_lon&quot;: -96.799838}, {&quot;from_lat&quot;: 32.916636, &quot;from_lon&quot;: -96.889538, &quot;to_lat&quot;: 32.781289, &quot;to_lon&quot;: -96.799838}, {&quot;from_lat&quot;: 32.94608, &quot;from_lon&quot;: -96.844956, &quot;to_lat&quot;: 32.781289, &quot;to_lon&quot;: -96.799838}, {&quot;from_lat&quot;: 32.884114, &quot;from_lon&quot;: -96.845687, &quot;to_lat&quot;: 32.781289, &quot;to_lon&quot;: -96.799838}, {&quot;from_lat&quot;: 32.702405, &quot;from_lon&quot;: -97.339233, &quot;to_lat&quot;: 32.753813, &quot;to_lon&quot;: -97.332446}, {&quot;from_lat&quot;: 32.68897, &quot;from_lon&quot;: -97.381977, &quot;to_lat&quot;: 32.753813, &quot;to_lon&quot;: -97.332446}, {&quot;from_lat&quot;: 32.659189, &quot;from_lon&quot;: -97.366874, &quot;to_lat&quot;: 32.753813, &quot;to_lon&quot;: -97.332446}, {&quot;from_lat&quot;: 32.713649, &quot;from_lon&quot;: -97.31434, &quot;to_lat&quot;: 32.753813, &quot;to_lon&quot;: -97.332446}, {&quot;from_lat&quot;: 32.693163, &quot;from_lon&quot;: -97.338045, &quot;to_lat&quot;: 32.753813, &quot;to_lon&quot;: -97.332446}, {&quot;from_lat&quot;: 32.698015, &quot;from_lon&quot;: -97.288073, &quot;to_lat&quot;: 32.753813, &quot;to_lon&quot;: -97.332446}, {&quot;from_lat&quot;: 32.707719, &quot;from_lon&quot;: -97.398908, &quot;to_lat&quot;: 32.753813, &quot;to_lon&quot;: -97.332446}, {&quot;from_lat&quot;: 32.660268, &quot;from_lon&quot;: -97.313059, &quot;to_lat&quot;: 32.753813, &quot;to_lon&quot;: -97.332446}, {&quot;from_lat&quot;: 32.643007, &quot;from_lon&quot;: -97.278463, &quot;to_lat&quot;: 32.753813, &quot;to_lon&quot;: -97.332446}, {&quot;from_lat&quot;: 32.702868, &quot;from_lon&quot;: -97.340607, &quot;to_lat&quot;: 32.753813, &quot;to_lon&quot;: -97.332446}, {&quot;from_lat&quot;: 32.619806, &quot;from_lon&quot;: -97.396986, &quot;to_lat&quot;: 32.753813, &quot;to_lon&quot;: -97.332446}, {&quot;from_lat&quot;: 32.650019, &quot;from_lon&quot;: -97.259243, &quot;to_lat&quot;: 32.753813, &quot;to_lon&quot;: -97.332446}, {&quot;from_lat&quot;: 32.695859, &quot;from_lon&quot;: -97.341248, &quot;to_lat&quot;: 32.753813, &quot;to_lon&quot;: -97.332446}, {&quot;from_lat&quot;: 32.604156, &quot;from_lon&quot;: -97.167628, &quot;to_lat&quot;: 32.753813, &quot;to_lon&quot;: -97.332446}, {&quot;from_lat&quot;: 32.611712, &quot;from_lon&quot;: -97.326513, &quot;to_lat&quot;: 32.753813, &quot;to_lon&quot;: -97.332446}, {&quot;from_lat&quot;: 32.617648, &quot;from_lon&quot;: -97.393782, &quot;to_lat&quot;: 32.753813, &quot;to_lon&quot;: -97.332446}, {&quot;from_lat&quot;: 32.852613, &quot;from_lon&quot;: -97.328435, &quot;to_lat&quot;: 32.753813, &quot;to_lon&quot;: -97.332446}, {&quot;from_lat&quot;: 32.819777, &quot;from_lon&quot;: -97.368796, &quot;to_lat&quot;: 32.753813, &quot;to_lon&quot;: -97.332446}, {&quot;from_lat&quot;: 32.789083, &quot;from_lon&quot;: -97.303449, &quot;to_lat&quot;: 32.753813, &quot;to_lon&quot;: -97.332446}, {&quot;from_lat&quot;: 32.768076, &quot;from_lon&quot;: -97.431581, &quot;to_lat&quot;: 32.753813, &quot;to_lon&quot;: -97.332446}, {&quot;from_lat&quot;: 32.681301, &quot;from_lon&quot;: -97.363671, &quot;to_lat&quot;: 32.753813, &quot;to_lon&quot;: -97.332446}, {&quot;from_lat&quot;: 32.665661, &quot;from_lon&quot;: -97.389298, &quot;to_lat&quot;: 32.753813, &quot;to_lon&quot;: -97.332446}, {&quot;from_lat&quot;: 32.683997, &quot;from_lon&quot;: -97.307293, &quot;to_lat&quot;: 32.753813, &quot;to_lon&quot;: -97.332446}, {&quot;from_lat&quot;: 32.703407, &quot;from_lon&quot;: -97.340607, &quot;to_lat&quot;: 32.753813, &quot;to_lon&quot;: -97.332446}, {&quot;from_lat&quot;: 32.668358, &quot;from_lon&quot;: -97.255399, &quot;to_lat&quot;: 32.753813, &quot;to_lon&quot;: -97.332446}, {&quot;from_lat&quot;: 32.709337, &quot;from_lon&quot;: -97.375844, &quot;to_lat&quot;: 32.753813, &quot;to_lon&quot;: -97.332446}, {&quot;from_lat&quot;: 32.616569, &quot;from_lon&quot;: -97.389298, &quot;to_lat&quot;: 32.753813, &quot;to_lon&quot;: -97.332446}, {&quot;from_lat&quot;: 32.692624, &quot;from_lon&quot;: -97.441191, &quot;to_lat&quot;: 32.753813, &quot;to_lon&quot;: -97.332446}, {&quot;from_lat&quot;: 32.646783, &quot;from_lon&quot;: -97.327794, &quot;to_lat&quot;: 32.753813, &quot;to_lon&quot;: -97.332446}, {&quot;from_lat&quot;: 32.64948, &quot;from_lon&quot;: -97.378406, &quot;to_lat&quot;: 32.757086, &quot;to_lon&quot;: -97.330338}, {&quot;from_lat&quot;: 32.685075, &quot;from_lon&quot;: -97.382891, &quot;to_lat&quot;: 32.757086, &quot;to_lon&quot;: -97.330338}, {&quot;from_lat&quot;: 32.697476, &quot;from_lon&quot;: -97.276541, &quot;to_lat&quot;: 32.757086, &quot;to_lon&quot;: -97.330338}, {&quot;from_lat&quot;: 32.813316, &quot;from_lon&quot;: -97.334841, &quot;to_lat&quot;: 32.757086, &quot;to_lon&quot;: -97.330338}, {&quot;from_lat&quot;: 32.747063, &quot;from_lon&quot;: -97.45977, &quot;to_lat&quot;: 32.757086, &quot;to_lon&quot;: -97.330338}, {&quot;from_lat&quot;: 32.685614, &quot;from_lon&quot;: -97.206068, &quot;to_lat&quot;: 32.757086, &quot;to_lon&quot;: -97.330338}, {&quot;from_lat&quot;: 32.691006, &quot;from_lon&quot;: -97.43991, &quot;to_lat&quot;: 32.757086, &quot;to_lon&quot;: -97.330338}, {&quot;from_lat&quot;: 32.604156, &quot;from_lon&quot;: -97.307933, &quot;to_lat&quot;: 32.757086, &quot;to_lon&quot;: -97.330338}, {&quot;from_lat&quot;: 32.593362, &quot;from_lon&quot;: -97.427737, &quot;to_lat&quot;: 32.757086, &quot;to_lon&quot;: -97.330338}, {&quot;from_lat&quot;: 32.603617, &quot;from_lon&quot;: -97.22721, &quot;to_lat&quot;: 32.757086, &quot;to_lon&quot;: -97.330338}, {&quot;from_lat&quot;: 32.644085, &quot;from_lon&quot;: -97.296401, &quot;to_lat&quot;: 32.757086, &quot;to_lon&quot;: -97.330338}, {&quot;from_lat&quot;: 32.714188, &quot;from_lon&quot;: -97.370718, &quot;to_lat&quot;: 32.757086, &quot;to_lon&quot;: -97.330338}, {&quot;from_lat&quot;: 32.659189, &quot;from_lon&quot;: -97.410439, &quot;to_lat&quot;: 32.757086, &quot;to_lon&quot;: -97.330338}, {&quot;from_lat&quot;: 32.7185, &quot;from_lon&quot;: -97.314981, &quot;to_lat&quot;: 32.757086, &quot;to_lon&quot;: -97.330338}, {&quot;from_lat&quot;: 32.612252, &quot;from_lon&quot;: -97.386735, &quot;to_lat&quot;: 32.757086, &quot;to_lon&quot;: -97.330338}, {&quot;from_lat&quot;: 32.654874, &quot;from_lon&quot;: -97.437347, &quot;to_lat&quot;: 32.757086, &quot;to_lon&quot;: -97.330338}, {&quot;from_lat&quot;: 32.651098, &quot;from_lon&quot;: -97.27526, &quot;to_lat&quot;: 32.757086, &quot;to_lon&quot;: -97.330338}, {&quot;from_lat&quot;: 32.725507, &quot;from_lon&quot;: -97.281026, &quot;to_lat&quot;: 32.757086, &quot;to_lon&quot;: -97.330338}], &quot;getSourceColor&quot;: [255, 165, 0, 80], &quot;getSourcePosition&quot;: &quot;@@=[from_lon, from_lat]&quot;, &quot;getTargetColor&quot;: [128, 0, 128, 80], &quot;getTargetPosition&quot;: &quot;@@=[to_lon, to_lat]&quot;, &quot;getTilt&quot;: 15, &quot;getWidth&quot;: 5, &quot;id&quot;: &quot;3669d9b8-0858-4d58-9660-1e0c398b5867&quot;}], &quot;mapProvider&quot;: &quot;carto&quot;, &quot;mapStyle&quot;: &quot;mapbox://styles/mapbox/carto-darkmatter&quot;, &quot;views&quot;: [{&quot;@@type&quot;: &quot;MapView&quot;, &quot;controller&quot;: true}]};\n",
       "    const tooltip = true;\n",
       "    const customLibraries = null;\n",
       "\n",
       "    const deckInstance = createDeck({\n",
       "                  container: document.getElementById(&#x27;deck-container&#x27;),\n",
       "      jsonInput,\n",
       "      tooltip,\n",
       "      customLibraries\n",
       "    });\n",
       "\n",
       "  &lt;/script&gt;\n",
       "&lt;/html&gt;\"\n",
       "        ></iframe>\n",
       "    "
      ],
      "text/plain": [
       "<IPython.core.display.HTML object>"
      ]
     },
     "execution_count": 39,
     "metadata": {},
     "output_type": "execute_result"
    }
   ],
   "source": [
    "arc_layer_map.to_html('day28plot.html')"
   ]
  },
  {
   "cell_type": "code",
   "execution_count": null,
   "metadata": {},
   "outputs": [],
   "source": []
  }
 ],
 "metadata": {
  "kernelspec": {
   "display_name": "Python 3.8.8 ('base')",
   "language": "python",
   "name": "python3"
  },
  "language_info": {
   "codemirror_mode": {
    "name": "ipython",
    "version": 3
   },
   "file_extension": ".py",
   "mimetype": "text/x-python",
   "name": "python",
   "nbconvert_exporter": "python",
   "pygments_lexer": "ipython3",
   "version": "3.8.8"
  },
  "orig_nbformat": 4,
  "vscode": {
   "interpreter": {
    "hash": "72e8bfbdbbb7b169bae3763836386dfea474a9314d83f4a99829b633179f3ef7"
   }
  }
 },
 "nbformat": 4,
 "nbformat_minor": 2
}
