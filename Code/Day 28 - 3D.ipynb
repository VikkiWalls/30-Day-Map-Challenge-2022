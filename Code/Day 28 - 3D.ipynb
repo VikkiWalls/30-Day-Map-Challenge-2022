{
 "cells": [
  {
   "cell_type": "markdown",
   "metadata": {},
   "source": [
    "# 30 Day Map Challenge"
   ]
  },
  {
   "cell_type": "markdown",
   "metadata": {},
   "source": [
    "## Day 28 - 3D"
   ]
  },
  {
   "cell_type": "markdown",
   "metadata": {},
   "source": [
    "Plan: "
   ]
  },
  {
   "cell_type": "markdown",
   "metadata": {},
   "source": [
    "https://www.youtube.com/watch?v=Bne9VASvDoI"
   ]
  },
  {
   "cell_type": "code",
   "execution_count": 24,
   "metadata": {},
   "outputs": [],
   "source": [
    "import pydeck as pdk\n",
    "import pandas as pd\n",
    "from vega_datasets import data as vds\n",
    "import ipywidgets\n",
    "import plotly.express as px\n",
    "\n",
    "# use palettable for colormap colours\n",
    "from palettable.cartocolors.sequential import BrwnYl_3\n",
    "import os\n",
    "import json"
   ]
  },
  {
   "cell_type": "code",
   "execution_count": 25,
   "metadata": {},
   "outputs": [],
   "source": [
    "os.getcwd()\n",
    "os.chdir(\"c:\\\\Users\\\\vicks\\\\OneDrive\\\\Data Science (not uni)\\\\Portfolio\\\\30 Day Map Challenge\\\\30 Day Map Challenge Data\\\\3d\")"
   ]
  },
  {
   "cell_type": "code",
   "execution_count": 26,
   "metadata": {},
   "outputs": [
    {
     "data": {
      "text/html": [
       "<div>\n",
       "<style scoped>\n",
       "    .dataframe tbody tr th:only-of-type {\n",
       "        vertical-align: middle;\n",
       "    }\n",
       "\n",
       "    .dataframe tbody tr th {\n",
       "        vertical-align: top;\n",
       "    }\n",
       "\n",
       "    .dataframe thead th {\n",
       "        text-align: right;\n",
       "    }\n",
       "</style>\n",
       "<table border=\"1\" class=\"dataframe\">\n",
       "  <thead>\n",
       "    <tr style=\"text-align: right;\">\n",
       "      <th></th>\n",
       "      <th>from_lat</th>\n",
       "      <th>from_lon</th>\n",
       "      <th>to_lat</th>\n",
       "      <th>to_lon</th>\n",
       "    </tr>\n",
       "  </thead>\n",
       "  <tbody>\n",
       "    <tr>\n",
       "      <th>0</th>\n",
       "      <td>32.870715</td>\n",
       "      <td>-97.376346</td>\n",
       "      <td>32.769007</td>\n",
       "      <td>-96.812533</td>\n",
       "    </tr>\n",
       "    <tr>\n",
       "      <th>1</th>\n",
       "      <td>32.799592</td>\n",
       "      <td>-97.351823</td>\n",
       "      <td>32.822974</td>\n",
       "      <td>-96.801833</td>\n",
       "    </tr>\n",
       "    <tr>\n",
       "      <th>2</th>\n",
       "      <td>32.768221</td>\n",
       "      <td>-97.106567</td>\n",
       "      <td>32.834189</td>\n",
       "      <td>-97.358136</td>\n",
       "    </tr>\n",
       "    <tr>\n",
       "      <th>3</th>\n",
       "      <td>32.695613</td>\n",
       "      <td>-96.707196</td>\n",
       "      <td>32.824957</td>\n",
       "      <td>-96.803326</td>\n",
       "    </tr>\n",
       "    <tr>\n",
       "      <th>4</th>\n",
       "      <td>32.811108</td>\n",
       "      <td>-97.358136</td>\n",
       "      <td>32.801874</td>\n",
       "      <td>-96.768994</td>\n",
       "    </tr>\n",
       "  </tbody>\n",
       "</table>\n",
       "</div>"
      ],
      "text/plain": [
       "    from_lat   from_lon     to_lat     to_lon\n",
       "0  32.870715 -97.376346  32.769007 -96.812533\n",
       "1  32.799592 -97.351823  32.822974 -96.801833\n",
       "2  32.768221 -97.106567  32.834189 -97.358136\n",
       "3  32.695613 -96.707196  32.824957 -96.803326\n",
       "4  32.811108 -97.358136  32.801874 -96.768994"
      ]
     },
     "execution_count": 26,
     "metadata": {},
     "output_type": "execute_result"
    }
   ],
   "source": [
    "data = 'https://raw.githubusercontent.com/groundhogday321/dataframe-datasets/master/fake_commute_data.csv'\n",
    "commute_pattern = pd.read_csv(data)\n",
    "commute_pattern.head()"
   ]
  },
  {
   "cell_type": "code",
   "execution_count": 27,
   "metadata": {},
   "outputs": [],
   "source": [
    "view = pdk.ViewState(latitude=32.800382, longitude=-97.040728, pitch=50, zoom=9)"
   ]
  },
  {
   "cell_type": "code",
   "execution_count": 28,
   "metadata": {},
   "outputs": [],
   "source": [
    "mapboxkey = px.set_mapbox_access_token(open(\"mapboxtokenhex.txt\").read())"
   ]
  },
  {
   "cell_type": "code",
   "execution_count": 29,
   "metadata": {},
   "outputs": [
    {
     "data": {
      "application/vnd.jupyter.widget-view+json": {
       "model_id": "fa26610eef53451d9d8a0dabbbddcdfd",
       "version_major": 2,
       "version_minor": 0
      },
      "text/plain": [
       "DeckGLWidget(carto_key=None, custom_libraries=[], google_maps_key=None, json_input='{\"initialViewState\": {\"lat…"
      ]
     },
     "metadata": {},
     "output_type": "display_data"
    }
   ],
   "source": [
    "arc_layer = pdk.Layer('ArcLayer', data=commute_pattern, get_source_position=['from_lon', 'from_lat'], get_target_position=['to_lon', 'to_lat'],\n",
    "                      get_width=5, get_tilt=15, get_source_color=[255, 165, 0, 80], get_target_color=[128, 0, 128, 80])\n",
    "\n",
    "arc_layer_map = pdk.Deck(map_style='mapbox://styles/mapbox/dark-v10', layers = arc_layer, initial_view_state = view)\n",
    "\n",
    "arc_layer_map.to_html('c:\\\\Users\\\\vicks\\\\OneDrive\\\\Data Science (not uni)\\\\Portfolio\\\\30 Day Map Challenge\\\\30-Day-Map-Challenge-live-maps-\\\\day28plot.html')\n",
    "arc_layer_map.show()"
   ]
  },
  {
   "cell_type": "markdown",
   "metadata": {},
   "source": []
  }
 ],
 "metadata": {
  "kernelspec": {
   "display_name": "Python 3.8.8 ('base')",
   "language": "python",
   "name": "python3"
  },
  "language_info": {
   "codemirror_mode": {
    "name": "ipython",
    "version": 3
   },
   "file_extension": ".py",
   "mimetype": "text/x-python",
   "name": "python",
   "nbconvert_exporter": "python",
   "pygments_lexer": "ipython3",
   "version": "3.8.8"
  },
  "orig_nbformat": 4,
  "vscode": {
   "interpreter": {
    "hash": "72e8bfbdbbb7b169bae3763836386dfea474a9314d83f4a99829b633179f3ef7"
   }
  }
 },
 "nbformat": 4,
 "nbformat_minor": 2
}
